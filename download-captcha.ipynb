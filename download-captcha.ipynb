{
 "cells": [
  {
   "cell_type": "code",
   "execution_count": 252,
   "metadata": {},
   "outputs": [
    {
     "data": {
      "text/plain": "'\\n    This script is to download captcha from ireserve.ntl.edu.tw\\n'"
     },
     "execution_count": 252,
     "metadata": {},
     "output_type": "execute_result"
    }
   ],
   "source": [
    "\"\"\"\n",
    "    This script is to download captcha from ireserve.ntl.edu.tw\n",
    "\"\"\""
   ]
  },
  {
   "cell_type": "code",
   "execution_count": 253,
   "metadata": {},
   "outputs": [],
   "source": [
    "import requests\n",
    "import logging\n",
    "import os\n",
    "from datetime import datetime\n",
    "import time\n",
    "import boto3"
   ]
  },
  {
   "cell_type": "code",
   "execution_count": 254,
   "metadata": {},
   "outputs": [],
   "source": [
    "logger = logging.getLogger()\n",
    "logger.setLevel(logging.INFO)\n",
    "session = boto3.Session()"
   ]
  },
  {
   "cell_type": "code",
   "execution_count": 255,
   "metadata": {},
   "outputs": [],
   "source": [
    "def request_captcha(\n",
    "    _base_url: str,\n",
    "    _request_captcha_route: str,\n",
    "    _request_payload: str\n",
    ") -> str:\n",
    "    \"\"\"\n",
    "        This function is to request captcha\n",
    "    \"\"\"\n",
    "    try:\n",
    "        headers = {\n",
    "            'Content-Type': 'text/plain'\n",
    "        }\n",
    "        request_captcha_response = requests.post(\n",
    "            f'{_base_url}{_request_captcha_route}',\n",
    "            data = _request_payload,\n",
    "            headers = headers\n",
    "        )\n",
    "        cpatcha_url_string = request_captcha_response.text.splitlines()[-2]\n",
    "        return cpatcha_url_string\n",
    "    except Exception as error:\n",
    "        logger.error(error)\n",
    "        raise ValueError('Error While Request Captcha.')"
   ]
  },
  {
   "cell_type": "code",
   "execution_count": 256,
   "metadata": {},
   "outputs": [],
   "source": [
    "def format_cpatcha_url(\n",
    "    _captcha_url_string: str\n",
    "):\n",
    "    \"\"\"\n",
    "        This function is to format captcha url\n",
    "    \"\"\"\n",
    "    try:\n",
    "        captcha_url = _captcha_url_string \\\n",
    "            .split(',')[-1][1:-3]\n",
    "        return captcha_url\n",
    "    except Exception as error:\n",
    "        logger.error(error)\n",
    "        raise ValueError('Error While Format Captcha Url.')"
   ]
  },
  {
   "cell_type": "code",
   "execution_count": 261,
   "metadata": {},
   "outputs": [],
   "source": [
    "def download_captcha_image(\n",
    "    _base_url: str,\n",
    "    _captcha_url: str\n",
    "):\n",
    "    \"\"\"\n",
    "        This function is to download captcha image\n",
    "    \"\"\"\n",
    "    try:\n",
    "        captcha_response = requests.get(\n",
    "            f'{_base_url}{_captcha_url}',\n",
    "            allow_redirects = True\n",
    "        )\n",
    "        return captcha_response.content\n",
    "    except Exception as error:\n",
    "        logger.error(error)\n",
    "        raise ValueError('Error While Download Captcha Image.')"
   ]
  },
  {
   "cell_type": "code",
   "execution_count": 258,
   "metadata": {},
   "outputs": [],
   "source": [
    "def upload_image_to_s3(\n",
    "    _captcha_response: str,\n",
    "    _session: boto3.Session,\n",
    "    _s3_bucket_name: str,\n",
    "    _s3_prefix: str\n",
    "):\n",
    "    \"\"\"\n",
    "        This function is to upload image to s3\n",
    "    \"\"\"\n",
    "    try:\n",
    "        file_name = datetime.strftime(datetime.now(), '%Y%m%d%H%M%S')\n",
    "        s3_client = _session.client('s3')\n",
    "        s3_client.put_object(\n",
    "            Body = _captcha_response,\n",
    "            Bucket = _s3_bucket_name,\n",
    "            Key = f'{_s3_prefix}/{file_name}.png'\n",
    "        )\n",
    "        print(f'{_s3_prefix}/{file_name}.png uploaded.')\n",
    "    except Exception as error:\n",
    "        logger.error(error)\n",
    "        raise ValueError('Error While Upload Image To S3.')"
   ]
  },
  {
   "cell_type": "code",
   "execution_count": 259,
   "metadata": {},
   "outputs": [],
   "source": [
    "def main():\n",
    "    \"\"\"\n",
    "        This is main function\n",
    "    \"\"\"\n",
    "    try:\n",
    "        images_folder = 'images'\n",
    "        s3_bucket_name = ''\n",
    "        s3_prefix = ''\n",
    "        base_url = 'http://ireserve.ntl.edu.tw'\n",
    "        request_captcha_route = '/sm/dwr/call/plaincall/LoginWebController.loadCaptchaImage.dwr'\n",
    "        request_payload = \"\"\"\n",
    "callCount=1\\r\\n\n",
    "windowName=\\r\\n\n",
    "nextReverseAjaxIndex=0\\r\\n\n",
    "c0-scriptName=LoginWebController\\r\\n\n",
    "c0-methodName=loadCaptchaImage\\r\\n\n",
    "c0-id=0\\r\\n\n",
    "batchId=29\\r\\n\n",
    "instanceId=0\\r\\n\n",
    "page=%2Fsm%2Fhome_web.do\\r\\n\n",
    "scriptSessionId=GE44WuqiL92h6vJZNEg3rDMubxn/2h8vbxn-H$P4HI8Os\n",
    "\"\"\"\n",
    "        for i in range(1, 10):\n",
    "            time.sleep(1)\n",
    "            cpatcha_url_string = request_captcha(\n",
    "                base_url,\n",
    "                request_captcha_route,\n",
    "                request_payload\n",
    "            )\n",
    "            cpatcha_url = format_cpatcha_url(\n",
    "                cpatcha_url_string\n",
    "            )\n",
    "            captcha_response = download_captcha_image(\n",
    "                base_url,\n",
    "                cpatcha_url\n",
    "            )\n",
    "            upload_image_to_s3(\n",
    "                captcha_response,\n",
    "                session,\n",
    "                s3_bucket_name,\n",
    "                s3_prefix\n",
    "            )\n",
    "    except Exception as error:\n",
    "        raise"
   ]
  },
  {
   "cell_type": "code",
   "execution_count": null,
   "metadata": {},
   "outputs": [],
   "source": [
    "main()"
   ]
  },
  {
   "cell_type": "code",
   "execution_count": null,
   "metadata": {},
   "outputs": [],
   "source": []
  }
 ],
 "metadata": {
  "kernelspec": {
   "display_name": "Python 3.8.6 64-bit ('3.8.6')",
   "metadata": {
    "interpreter": {
     "hash": "5534ca191f0ec73724d8c90eb556c974d9046d7de8a4d35d063489447ecbefda"
    }
   },
   "name": "python3"
  },
  "language_info": {
   "codemirror_mode": {
    "name": "ipython",
    "version": 3
   },
   "file_extension": ".py",
   "mimetype": "text/x-python",
   "name": "python",
   "nbconvert_exporter": "python",
   "pygments_lexer": "ipython3",
   "version": "3.8.6-final"
  },
  "orig_nbformat": 2
 },
 "nbformat": 4,
 "nbformat_minor": 2
}