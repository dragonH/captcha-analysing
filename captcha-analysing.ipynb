{
 "cells": [
  {
   "cell_type": "code",
   "execution_count": 51,
   "metadata": {},
   "outputs": [
    {
     "data": {
      "text/plain": "'\\n    This script is to test captcha analysing\\n'"
     },
     "execution_count": 51,
     "metadata": {},
     "output_type": "execute_result"
    }
   ],
   "source": [
    "\"\"\"\n",
    "    This script is to test captcha analysing\n",
    "\"\"\""
   ]
  },
  {
   "cell_type": "code",
   "execution_count": 52,
   "metadata": {},
   "outputs": [],
   "source": [
    "import io\n",
    "import boto3\n",
    "import logging\n",
    "from pprint import pprint\n",
    "from PIL import Image\n",
    "import pytesseract\n",
    "import re"
   ]
  },
  {
   "cell_type": "code",
   "execution_count": 53,
   "metadata": {},
   "outputs": [],
   "source": [
    "logger = logging.getLogger()\n",
    "logger.setLevel(logging.INFO)\n",
    "session = boto3.Session()"
   ]
  },
  {
   "cell_type": "code",
   "execution_count": 54,
   "metadata": {},
   "outputs": [],
   "source": [
    "def get_image_paths_from_s3(\n",
    "    _s3_bucket_name: str,\n",
    "    _s3_prefix: str,\n",
    "    _session: boto3.Session\n",
    "):\n",
    "    \"\"\"\n",
    "        This function is to get image paths from s3\n",
    "    \"\"\"\n",
    "    try:\n",
    "        s3_client = _session.client('s3')\n",
    "        s3_paginator = s3_client.get_paginator('list_objects_v2')\n",
    "        s3_paginate_pages = s3_paginator.paginate(\n",
    "            Bucket = _s3_bucket_name,\n",
    "            Prefix = _s3_prefix\n",
    "        )\n",
    "        image_paths = []\n",
    "        for index, s3_paginate_page in enumerate(s3_paginate_pages):\n",
    "            temp_image_paths = []\n",
    "            if index == 0:\n",
    "                temp_image_paths = list(\n",
    "                    map(\n",
    "                        lambda _object: _object['Key'],\n",
    "                        filter(\n",
    "                            lambda _object: _object['Key'].endswith('png'),\n",
    "                            s3_paginate_page['Contents']\n",
    "                        )\n",
    "                    )\n",
    "                )\n",
    "                image_paths += temp_image_paths\n",
    "                break\n",
    "        return image_paths\n",
    "    except Exception as error:\n",
    "        logger.error(error)\n",
    "        raise ValueError('Error While Get Image Paths From S3.')"
   ]
  },
  {
   "cell_type": "code",
   "execution_count": 55,
   "metadata": {},
   "outputs": [],
   "source": [
    "def load_image_from_s3_as_binary(\n",
    "    _s3_bucket_name: str,\n",
    "    _image_path: str,\n",
    "    _session: boto3.Session\n",
    "):\n",
    "    \"\"\"\n",
    "        This function is to load image from s3 as binary\n",
    "    \"\"\"\n",
    "    try:\n",
    "        s3_resource = _session.resource('s3')\n",
    "        image_object = s3_resource.Object(\n",
    "            _s3_bucket_name,\n",
    "            _image_path\n",
    "        )\n",
    "        image_stream = io.BytesIO()\n",
    "        image_object.download_fileobj(image_stream)\n",
    "        return image_stream\n",
    "    except Exception as error:\n",
    "        logger.error(error)\n",
    "        raise ValueError('Error While Load Image From S3 As Binary.')"
   ]
  },
  {
   "cell_type": "code",
   "execution_count": 56,
   "metadata": {},
   "outputs": [],
   "source": [
    "def image_binarization(\n",
    "    _image: Image.Image,\n",
    "    _threshold: int\n",
    "):\n",
    "    \"\"\"\n",
    "        This function is to process image binarization\n",
    "    \"\"\"\n",
    "    try:\n",
    "        image_gray = _image.convert('L')\n",
    "        pixels = image_gray.load()\n",
    "        for x in range(image_gray.width):\n",
    "            for y in range(image_gray.height):\n",
    "                if pixels[x, y] > _threshold:\n",
    "                    pixels[x, y] = 255\n",
    "                else:\n",
    "                    pixels[x, y] = 0\n",
    "        return image_gray\n",
    "    except Exception as error:\n",
    "        logger.error(error)\n",
    "        raise ValueError('Error While Process Image Binarization.')"
   ]
  },
  {
   "cell_type": "code",
   "execution_count": 57,
   "metadata": {},
   "outputs": [],
   "source": [
    "def interference_line(\n",
    "    _image: Image.Image\n",
    "):\n",
    "    \"\"\"\n",
    "        This function is to process interference line\n",
    "    \"\"\"\n",
    "    try:\n",
    "        pixels = _image.load()\n",
    "        for x in range(1, _image.width - 1):\n",
    "            for y in range(1, _image.height - 1):\n",
    "                count = 0\n",
    "                if pixels[x, y - 1] > 245:\n",
    "                    count = count + 1\n",
    "                if pixels[x, y + 1] > 245:\n",
    "                    count = count + 1\n",
    "                if pixels[x - 1, y] > 245:\n",
    "                    count = count + 1\n",
    "                if pixels[x + 1, y] > 245:\n",
    "                    count = count + 1\n",
    "                if count > 2:\n",
    "                    pixels[x, y] = 255\n",
    "        return _image\n",
    "    except Exception as error:\n",
    "        logger.error(error)\n",
    "        raise ValueError('Error While Process Interference Line.')"
   ]
  },
  {
   "cell_type": "code",
   "execution_count": 58,
   "metadata": {},
   "outputs": [],
   "source": [
    "def interference_point(\n",
    "    _image: Image.Image\n",
    "):\n",
    "    \"\"\"\n",
    "        This function is to process interference point\n",
    "    \"\"\"\n",
    "    try:\n",
    "        pixels = _image.load()\n",
    "        for x in range(0, _image.width - 1):\n",
    "            for y in range(0, _image.height - 1):\n",
    "                cur_pixel = pixels[x, y]\n",
    "                if y == 0:\n",
    "                    if x == 0:\n",
    "                        sum = int(cur_pixel) \\\n",
    "                            + int(pixels[x, y + 1]) \\\n",
    "                            + int(pixels[x + 1, y]) \\\n",
    "                            + int(pixels[x + 1, y + 1])\n",
    "                        if sum <= 2 * 245:\n",
    "                            pixels[x, y] = 0\n",
    "                    elif x == _image.height - 1:\n",
    "                        sum = int(cur_pixel) \\\n",
    "                            + int(pixels[x, y + 1]) \\\n",
    "                            + int(pixels[x - 1, y]) \\\n",
    "                            + int(pixels[x - 1, y + 1])\n",
    "                        if sum <= 2 * 245:\n",
    "                            pixels[x, y] = 0\n",
    "                    else:\n",
    "                        sum = int(pixels[x - 1, y]) \\\n",
    "                            + int(pixels[x - 1, y + 1]) \\\n",
    "                            + int(cur_pixel) \\\n",
    "                            + int(pixels[x, y + 1]) \\\n",
    "                            + int(pixels[x + 1, y]) \\\n",
    "                            + int(pixels[x + 1, y + 1])\n",
    "                        if sum <= 3 * 245:\n",
    "                            pixels[x, y] = 0\n",
    "                elif y == _image.width - 1:\n",
    "                    if x == 0:\n",
    "                        sum = int(cur_pixel) \\\n",
    "                            + int(pixels[x + 1, y]) \\\n",
    "                            + int(pixels[x + 1, y - 1]) \\\n",
    "                            + int(pixels[x, y - 1])\n",
    "                        if sum <= 2 * 245:\n",
    "                            pixels[x, y] = 0\n",
    "                    elif x == _image.height - 1:\n",
    "                        sum = int(cur_pixel) \\\n",
    "                            + int(pixels[x, y - 1]) \\\n",
    "                            + int(pixels[x - 1, y]) \\\n",
    "                            + int(pixels[x - 1, y - 1])\n",
    "                        if sum <= 2 * 245:\n",
    "                            pixels[x, y] = 0\n",
    "                    else:\n",
    "                        sum = int(cur_pixel) \\\n",
    "                            + int(pixels[x - 1, y]) \\\n",
    "                            + int(pixels[x + 1, y]) \\\n",
    "                            + int(pixels[x, y - 1]) \\\n",
    "                            + int(pixels[x - 1, y - 1]) \\\n",
    "                            + int(pixels[x + 1, y - 1])\n",
    "                        if sum <= 3 * 245:\n",
    "                            pixels[x, y] = 0\n",
    "                else:\n",
    "                    if x == 0:\n",
    "                        sum = int(pixels[x, y - 1]) \\\n",
    "                            + int(cur_pixel) \\\n",
    "                            + int(pixels[x, y + 1]) \\\n",
    "                            + int(pixels[x + 1, y - 1]) \\\n",
    "                            + int(pixels[x + 1, y]) \\\n",
    "                            + int(pixels[x + 1, y + 1])\n",
    "                        if sum <= 3 * 245:\n",
    "                            pixels[x, y] = 0\n",
    "                    elif x == _image.height - 1:\n",
    "                        sum = int(pixels[x, y - 1]) \\\n",
    "                            + int(cur_pixel) \\\n",
    "                            + int(pixels[x, y + 1]) \\\n",
    "                            + int(pixels[x - 1, y - 1]) \\\n",
    "                            + int(pixels[x - 1, y]) \\\n",
    "                            + int(pixels[x - 1, y + 1])\n",
    "                        if sum <= 3 * 245:\n",
    "                            pixels[x, y] = 0\n",
    "                    else:\n",
    "                        sum = int(pixels[x - 1, y - 1]) \\\n",
    "                            + int(pixels[x - 1, y]) \\\n",
    "                            + int(pixels[x - 1, y + 1]) \\\n",
    "                            + int(pixels[x, y - 1]) \\\n",
    "                            + int(cur_pixel) \\\n",
    "                            + int(pixels[x, y + 1]) \\\n",
    "                            + int(pixels[x + 1, y - 1]) \\\n",
    "                            + int(pixels[x + 1, y]) \\\n",
    "                            + int(pixels[x + 1, y + 1])\n",
    "                        if sum <= 4 * 245:\n",
    "                            pixels[x, y] = 0\n",
    "        return _image\n",
    "    except Exception as error:\n",
    "        logger.error(error)\n",
    "        raise ValueError('Error While Process Interference Point.')"
   ]
  },
  {
   "cell_type": "code",
   "execution_count": 59,
   "metadata": {},
   "outputs": [],
   "source": [
    "def main():\n",
    "    \"\"\"\n",
    "        This is main function\n",
    "    \"\"\"\n",
    "    try:\n",
    "        s3_bucket_name = ''\n",
    "        s3_prefix = ''\n",
    "        image_paths = get_image_paths_from_s3(\n",
    "            s3_bucket_name,\n",
    "            s3_prefix,\n",
    "            session\n",
    "        )\n",
    "        count = 0\n",
    "        for image_path in image_paths[:50]:\n",
    "            # print(image_path)\n",
    "            image_binary = load_image_from_s3_as_binary(\n",
    "                s3_bucket_name,\n",
    "                image_path,\n",
    "                session\n",
    "            )\n",
    "            image = Image.open(image_binary)\n",
    "            image_processed = image_binarization(\n",
    "                image,\n",
    "                254.5\n",
    "            )\n",
    "            # display(image_processed)\n",
    "            image_with_interference_line_processed = interference_line(image_processed)\n",
    "            # display(image_processed_1)\n",
    "            image_with_interference_point_processed = interference_point(image_with_interference_line_processed)\n",
    "            # display(image_processed_2)\n",
    "            answer = pytesseract.image_to_string(\n",
    "                image_with_interference_point_processed,\n",
    "                # lang = 'eng',\n",
    "                config = '--psm 8'\n",
    "            )\n",
    "            if re.match('[0-9]{4}', answer[:4]):\n",
    "                # print(image_path)\n",
    "                display(image)\n",
    "                display(image_processed)\n",
    "                display(answer[:4])\n",
    "                count += 1\n",
    "        # display(f'rate: {count} / 1000')\n",
    "    except Exception as error:\n",
    "        raise"
   ]
  },
  {
   "cell_type": "code",
   "execution_count": 60,
   "metadata": {},
   "outputs": [
    {
     "data": {
      "image/png": "[encoded data removed]",
      "text/plain": "<PIL.PngImagePlugin.PngImageFile image mode=RGB size=100x35 at 0x7FEC25380D90>"
     },
     "metadata": {},
     "output_type": "display_data"
    },
    {
     "data": {
      "image/png": "[encoded data removed]",
      "text/plain": "<PIL.Image.Image image mode=L size=100x35 at 0x7FEC25380130>"
     },
     "metadata": {},
     "output_type": "display_data"
    },
    {
     "data": {
      "text/plain": "'5825'"
     },
     "metadata": {},
     "output_type": "display_data"
    },
    {
     "data": {
      "image/png": "[encoded data removed]",
      "text/plain": "<PIL.PngImagePlugin.PngImageFile image mode=RGB size=100x35 at 0x7FEC25B39E20>"
     },
     "metadata": {},
     "output_type": "display_data"
    },
    {
     "data": {
      "image/png": "[encoded data removed]",
      "text/plain": "<PIL.Image.Image image mode=L size=100x35 at 0x7FEC25B397C0>"
     },
     "metadata": {},
     "output_type": "display_data"
    },
    {
     "data": {
      "text/plain": "'3983'"
     },
     "metadata": {},
     "output_type": "display_data"
    },
    {
     "data": {
      "image/png": "[encoded data removed]",
      "text/plain": "<PIL.PngImagePlugin.PngImageFile image mode=RGB size=100x35 at 0x7FEC25BBAFD0>"
     },
     "metadata": {},
     "output_type": "display_data"
    },
    {
     "data": {
      "image/png": "[encoded data removed]",
      "text/plain": "<PIL.Image.Image image mode=L size=100x35 at 0x7FEC25BBAD90>"
     },
     "metadata": {},
     "output_type": "display_data"
    },
    {
     "data": {
      "text/plain": "'5185'"
     },
     "metadata": {},
     "output_type": "display_data"
    },
    {
     "data": {
      "image/png": "[encoded data removed]",
      "text/plain": "<PIL.PngImagePlugin.PngImageFile image mode=RGB size=100x35 at 0x7FEBBF75F370>"
     },
     "metadata": {},
     "output_type": "display_data"
    },
    {
     "data": {
      "image/png": "[encoded data removed]",
      "text/plain": "<PIL.Image.Image image mode=L size=100x35 at 0x7FEBBF75FB20>"
     },
     "metadata": {},
     "output_type": "display_data"
    },
    {
     "data": {
      "text/plain": "'8475'"
     },
     "metadata": {},
     "output_type": "display_data"
    },
    {
     "data": {
      "image/png": "[encoded data removed]",
      "text/plain": "<PIL.PngImagePlugin.PngImageFile image mode=RGB size=100x35 at 0x7FEC25B8F520>"
     },
     "metadata": {},
     "output_type": "display_data"
    },
    {
     "data": {
      "image/png": "[encoded data removed]",
      "text/plain": "<PIL.Image.Image image mode=L size=100x35 at 0x7FEC25B8FF70>"
     },
     "metadata": {},
     "output_type": "display_data"
    },
    {
     "data": {
      "text/plain": "'6563'"
     },
     "metadata": {},
     "output_type": "display_data"
    },
    {
     "data": {
      "image/png": "[encoded data removed]",
      "text/plain": "<PIL.PngImagePlugin.PngImageFile image mode=RGB size=100x35 at 0x7FEBBEA0C0D0>"
     },
     "metadata": {},
     "output_type": "display_data"
    },
    {
     "data": {
      "image/png": "[encoded data removed]",
      "text/plain": "<PIL.Image.Image image mode=L size=100x35 at 0x7FEBBEA0C040>"
     },
     "metadata": {},
     "output_type": "display_data"
    },
    {
     "data": {
      "text/plain": "'1414'"
     },
     "metadata": {},
     "output_type": "display_data"
    },
    {
     "data": {
      "image/png": "[encoded data removed]",
      "text/plain": "<PIL.PngImagePlugin.PngImageFile image mode=RGB size=100x35 at 0x7FEC2530A850>"
     },
     "metadata": {},
     "output_type": "display_data"
    },
    {
     "data": {
      "image/png": "[encoded data removed]",
      "text/plain": "<PIL.Image.Image image mode=L size=100x35 at 0x7FEC2530A790>"
     },
     "metadata": {},
     "output_type": "display_data"
    },
    {
     "data": {
      "text/plain": "'8238'"
     },
     "metadata": {},
     "output_type": "display_data"
    },
    {
     "data": {
      "image/png": "[encoded data removed]",
      "text/plain": "<PIL.PngImagePlugin.PngImageFile image mode=RGB size=100x35 at 0x7FEC25C0CD90>"
     },
     "metadata": {},
     "output_type": "display_data"
    },
    {
     "data": {
      "image/png": "[encoded data removed]",
      "text/plain": "<PIL.Image.Image image mode=L size=100x35 at 0x7FEC25C0C820>"
     },
     "metadata": {},
     "output_type": "display_data"
    },
    {
     "data": {
      "text/plain": "'3328'"
     },
     "metadata": {},
     "output_type": "display_data"
    },
    {
     "data": {
      "image/png": "[encoded data removed]",
      "text/plain": "<PIL.PngImagePlugin.PngImageFile image mode=RGB size=100x35 at 0x7FEBBF109C10>"
     },
     "metadata": {},
     "output_type": "display_data"
    },
    {
     "data": {
      "image/png": "[encoded data removed]",
      "text/plain": "<PIL.Image.Image image mode=L size=100x35 at 0x7FEC25DE1FA0>"
     },
     "metadata": {},
     "output_type": "display_data"
    },
    {
     "data": {
      "text/plain": "'4555'"
     },
     "metadata": {},
     "output_type": "display_data"
    },
    {
     "data": {
      "image/png": "[encoded data removed]",
      "text/plain": "<PIL.PngImagePlugin.PngImageFile image mode=RGB size=100x35 at 0x7FEBBF7203D0>"
     },
     "metadata": {},
     "output_type": "display_data"
    },
    {
     "data": {
      "image/png": "[encoded data removed]",
      "text/plain": "<PIL.Image.Image image mode=L size=100x35 at 0x7FEBBF720C40>"
     },
     "metadata": {},
     "output_type": "display_data"
    },
    {
     "data": {
      "text/plain": "'2075'"
     },
     "metadata": {},
     "output_type": "display_data"
    },
    {
     "data": {
      "image/png": "[encoded data removed]",
      "text/plain": "<PIL.PngImagePlugin.PngImageFile image mode=RGB size=100x35 at 0x7FEC25771AC0>"
     },
     "metadata": {},
     "output_type": "display_data"
    },
    {
     "data": {
      "image/png": "[encoded data removed]",
      "text/plain": "<PIL.Image.Image image mode=L size=100x35 at 0x7FEC25771F70>"
     },
     "metadata": {},
     "output_type": "display_data"
    },
    {
     "data": {
      "text/plain": "'4753'"
     },
     "metadata": {},
     "output_type": "display_data"
    },
    {
     "data": {
      "image/png": "[encoded data removed]",
      "text/plain": "<PIL.PngImagePlugin.PngImageFile image mode=RGB size=100x35 at 0x7FEC25751880>"
     },
     "metadata": {},
     "output_type": "display_data"
    },
    {
     "data": {
      "image/png": "[encoded data removed]",
      "text/plain": "<PIL.Image.Image image mode=L size=100x35 at 0x7FEC25751910>"
     },
     "metadata": {},
     "output_type": "display_data"
    },
    {
     "data": {
      "text/plain": "'2653'"
     },
     "metadata": {},
     "output_type": "display_data"
    },
    {
     "data": {
      "image/png": "[encoded data removed]",
      "text/plain": "<PIL.PngImagePlugin.PngImageFile image mode=RGB size=100x35 at 0x7FEC25314310>"
     },
     "metadata": {},
     "output_type": "display_data"
    },
    {
     "data": {
      "image/png": "[encoded data removed]",
      "text/plain": "<PIL.Image.Image image mode=L size=100x35 at 0x7FEC25314280>"
     },
     "metadata": {},
     "output_type": "display_data"
    },
    {
     "data": {
      "text/plain": "'2045'"
     },
     "metadata": {},
     "output_type": "display_data"
    },
    {
     "data": {
      "image/png": "[encoded data removed]",
      "text/plain": "<PIL.PngImagePlugin.PngImageFile image mode=RGB size=100x35 at 0x7FEC25306EE0>"
     },
     "metadata": {},
     "output_type": "display_data"
    },
    {
     "data": {
      "image/png": "[encoded data removed]",
      "text/plain": "<PIL.Image.Image image mode=L size=100x35 at 0x7FEC25306E80>"
     },
     "metadata": {},
     "output_type": "display_data"
    },
    {
     "data": {
      "text/plain": "'8399'"
     },
     "metadata": {},
     "output_type": "display_data"
    },
    {
     "data": {
      "image/png": "[encoded data removed]",
      "text/plain": "<PIL.PngImagePlugin.PngImageFile image mode=RGB size=100x35 at 0x7FEC25D3E970>"
     },
     "metadata": {},
     "output_type": "display_data"
    },
    {
     "data": {
      "image/png": "[encoded data removed]",
      "text/plain": "<PIL.Image.Image image mode=L size=100x35 at 0x7FEC25D3E8E0>"
     },
     "metadata": {},
     "output_type": "display_data"
    },
    {
     "data": {
      "text/plain": "'0274'"
     },
     "metadata": {},
     "output_type": "display_data"
    },
    {
     "data": {
      "image/png": "[encoded data removed]",
      "text/plain": "<PIL.PngImagePlugin.PngImageFile image mode=RGB size=100x35 at 0x7FEC25D0B4F0>"
     },
     "metadata": {},
     "output_type": "display_data"
    },
    {
     "data": {
      "image/png": "[encoded data removed]",
      "text/plain": "<PIL.Image.Image image mode=L size=100x35 at 0x7FEC25C918E0>"
     },
     "metadata": {},
     "output_type": "display_data"
    },
    {
     "data": {
      "text/plain": "'5398'"
     },
     "metadata": {},
     "output_type": "display_data"
    },
    {
     "data": {
      "image/png": "[encoded data removed]",
      "text/plain": "<PIL.PngImagePlugin.PngImageFile image mode=RGB size=100x35 at 0x7FEC25CAA190>"
     },
     "metadata": {},
     "output_type": "display_data"
    },
    {
     "data": {
      "image/png": "[encoded data removed]",
      "text/plain": "<PIL.Image.Image image mode=L size=100x35 at 0x7FEC25CAA790>"
     },
     "metadata": {},
     "output_type": "display_data"
    },
    {
     "data": {
      "text/plain": "'9428'"
     },
     "metadata": {},
     "output_type": "display_data"
    },
    {
     "data": {
      "image/png": "[encoded data removed]",
      "text/plain": "<PIL.PngImagePlugin.PngImageFile image mode=RGB size=100x35 at 0x7FEC25749880>"
     },
     "metadata": {},
     "output_type": "display_data"
    },
    {
     "data": {
      "image/png": "[encoded data removed]",
      "text/plain": "<PIL.Image.Image image mode=L size=100x35 at 0x7FEC25749550>"
     },
     "metadata": {},
     "output_type": "display_data"
    },
    {
     "data": {
      "text/plain": "'9105'"
     },
     "metadata": {},
     "output_type": "display_data"
    },
    {
     "data": {
      "image/png": "[encoded data removed]",
      "text/plain": "<PIL.PngImagePlugin.PngImageFile image mode=RGB size=100x35 at 0x7FEC2573EDC0>"
     },
     "metadata": {},
     "output_type": "display_data"
    },
    {
     "data": {
      "image/png": "[encoded data removed]",
      "text/plain": "<PIL.Image.Image image mode=L size=100x35 at 0x7FEC2573EE80>"
     },
     "metadata": {},
     "output_type": "display_data"
    },
    {
     "data": {
      "text/plain": "'1691'"
     },
     "metadata": {},
     "output_type": "display_data"
    },
    {
     "data": {
      "image/png": "[encoded data removed]",
      "text/plain": "<PIL.PngImagePlugin.PngImageFile image mode=RGB size=100x35 at 0x7FEC25AA2070>"
     },
     "metadata": {},
     "output_type": "display_data"
    },
    {
     "data": {
      "image/png": "[encoded data removed]",
      "text/plain": "<PIL.Image.Image image mode=L size=100x35 at 0x7FEC25AA2700>"
     },
     "metadata": {},
     "output_type": "display_data"
    },
    {
     "data": {
      "text/plain": "'7526'"
     },
     "metadata": {},
     "output_type": "display_data"
    },
    {
     "data": {
      "image/png": "[encoded data removed]",
      "text/plain": "<PIL.PngImagePlugin.PngImageFile image mode=RGB size=100x35 at 0x7FEC45C15A00>"
     },
     "metadata": {},
     "output_type": "display_data"
    },
    {
     "data": {
      "image/png": "[encoded data removed]",
      "text/plain": "<PIL.Image.Image image mode=L size=100x35 at 0x7FEC45C15AC0>"
     },
     "metadata": {},
     "output_type": "display_data"
    },
    {
     "data": {
      "text/plain": "'4855'"
     },
     "metadata": {},
     "output_type": "display_data"
    },
    {
     "data": {
      "image/png": "[encoded data removed]",
      "text/plain": "<PIL.PngImagePlugin.PngImageFile image mode=RGB size=100x35 at 0x7FEC442DF1F0>"
     },
     "metadata": {},
     "output_type": "display_data"
    },
    {
     "data": {
      "image/png": "[encoded data removed]",
      "text/plain": "<PIL.Image.Image image mode=L size=100x35 at 0x7FEC45C15AF0>"
     },
     "metadata": {},
     "output_type": "display_data"
    },
    {
     "data": {
      "text/plain": "'2000'"
     },
     "metadata": {},
     "output_type": "display_data"
    },
    {
     "data": {
      "image/png": "[encoded data removed]",
      "text/plain": "<PIL.PngImagePlugin.PngImageFile image mode=RGB size=100x35 at 0x7FEC2592E580>"
     },
     "metadata": {},
     "output_type": "display_data"
    },
    {
     "data": {
      "image/png": "[encoded data removed]",
      "text/plain": "<PIL.Image.Image image mode=L size=100x35 at 0x7FEC45C15040>"
     },
     "metadata": {},
     "output_type": "display_data"
    },
    {
     "data": {
      "text/plain": "'3036'"
     },
     "metadata": {},
     "output_type": "display_data"
    },
    {
     "data": {
      "image/png": "[encoded data removed]",
      "text/plain": "<PIL.PngImagePlugin.PngImageFile image mode=RGB size=100x35 at 0x7FEC25CFE0A0>"
     },
     "metadata": {},
     "output_type": "display_data"
    },
    {
     "data": {
      "image/png": "[encoded data removed]",
      "text/plain": "<PIL.Image.Image image mode=L size=100x35 at 0x7FEC25CFE700>"
     },
     "metadata": {},
     "output_type": "display_data"
    },
    {
     "data": {
      "text/plain": "'4509'"
     },
     "metadata": {},
     "output_type": "display_data"
    },
    {
     "data": {
      "image/png": "[encoded data removed]",
      "text/plain": "<PIL.PngImagePlugin.PngImageFile image mode=RGB size=100x35 at 0x7FEC2576E7C0>"
     },
     "metadata": {},
     "output_type": "display_data"
    },
    {
     "data": {
      "image/png": "[encoded data removed]",
      "text/plain": "<PIL.Image.Image image mode=L size=100x35 at 0x7FEC2576E8E0>"
     },
     "metadata": {},
     "output_type": "display_data"
    },
    {
     "data": {
      "text/plain": "'7872'"
     },
     "metadata": {},
     "output_type": "display_data"
    },
    {
     "data": {
      "image/png": "[encoded data removed]",
      "text/plain": "<PIL.PngImagePlugin.PngImageFile image mode=RGB size=100x35 at 0x7FEC25AA22B0>"
     },
     "metadata": {},
     "output_type": "display_data"
    },
    {
     "data": {
      "image/png": "[encoded data removed]",
      "text/plain": "<PIL.Image.Image image mode=L size=100x35 at 0x7FEC25AA2580>"
     },
     "metadata": {},
     "output_type": "display_data"
    },
    {
     "data": {
      "text/plain": "'6526'"
     },
     "metadata": {},
     "output_type": "display_data"
    },
    {
     "data": {
      "image/png": "[encoded data removed]",
      "text/plain": "<PIL.PngImagePlugin.PngImageFile image mode=RGB size=100x35 at 0x7FEC25A78D60>"
     },
     "metadata": {},
     "output_type": "display_data"
    },
    {
     "data": {
      "image/png": "[encoded data removed]",
      "text/plain": "<PIL.Image.Image image mode=L size=100x35 at 0x7FEC25A78F70>"
     },
     "metadata": {},
     "output_type": "display_data"
    },
    {
     "data": {
      "text/plain": "'1413'"
     },
     "metadata": {},
     "output_type": "display_data"
    },
    {
     "data": {
      "image/png": "[encoded data removed]",
      "text/plain": "<PIL.PngImagePlugin.PngImageFile image mode=RGB size=100x35 at 0x7FEC25A14730>"
     },
     "metadata": {},
     "output_type": "display_data"
    },
    {
     "data": {
      "image/png": "[encoded data removed]",
      "text/plain": "<PIL.Image.Image image mode=L size=100x35 at 0x7FEC25A14640>"
     },
     "metadata": {},
     "output_type": "display_data"
    },
    {
     "data": {
      "text/plain": "'4606'"
     },
     "metadata": {},
     "output_type": "display_data"
    },
    {
     "data": {
      "image/png": "[encoded data removed]",
      "text/plain": "<PIL.PngImagePlugin.PngImageFile image mode=RGB size=100x35 at 0x7FEC25BBACD0>"
     },
     "metadata": {},
     "output_type": "display_data"
    },
    {
     "data": {
      "image/png": "[encoded data removed]",
      "text/plain": "<PIL.Image.Image image mode=L size=100x35 at 0x7FEC25BBA580>"
     },
     "metadata": {},
     "output_type": "display_data"
    },
    {
     "data": {
      "text/plain": "'2242'"
     },
     "metadata": {},
     "output_type": "display_data"
    },
    {
     "data": {
      "image/png": "[encoded data removed]",
      "text/plain": "<PIL.PngImagePlugin.PngImageFile image mode=RGB size=100x35 at 0x7FEBBE9287C0>"
     },
     "metadata": {},
     "output_type": "display_data"
    },
    {
     "data": {
      "image/png": "[encoded data removed]",
      "text/plain": "<PIL.Image.Image image mode=L size=100x35 at 0x7FEBBE928970>"
     },
     "metadata": {},
     "output_type": "display_data"
    },
    {
     "data": {
      "text/plain": "'3799'"
     },
     "metadata": {},
     "output_type": "display_data"
    },
    {
     "data": {
      "image/png": "[encoded data removed]",
      "text/plain": "<PIL.PngImagePlugin.PngImageFile image mode=RGB size=100x35 at 0x7FEC25B1EAF0>"
     },
     "metadata": {},
     "output_type": "display_data"
    },
    {
     "data": {
      "image/png": "[encoded data removed]",
      "text/plain": "<PIL.Image.Image image mode=L size=100x35 at 0x7FEC25B1EBB0>"
     },
     "metadata": {},
     "output_type": "display_data"
    },
    {
     "data": {
      "text/plain": "'6300'"
     },
     "metadata": {},
     "output_type": "display_data"
    },
    {
     "data": {
      "image/png": "[encoded data removed]",
      "text/plain": "<PIL.PngImagePlugin.PngImageFile image mode=RGB size=100x35 at 0x7FEC25946490>"
     },
     "metadata": {},
     "output_type": "display_data"
    },
    {
     "data": {
      "image/png": "[encoded data removed]",
      "text/plain": "<PIL.Image.Image image mode=L size=100x35 at 0x7FEC25946AF0>"
     },
     "metadata": {},
     "output_type": "display_data"
    },
    {
     "data": {
      "text/plain": "'5086'"
     },
     "metadata": {},
     "output_type": "display_data"
    },
    {
     "data": {
      "image/png": "[encoded data removed]",
      "text/plain": "<PIL.PngImagePlugin.PngImageFile image mode=RGB size=100x35 at 0x7FEC2E610A30>"
     },
     "metadata": {},
     "output_type": "display_data"
    },
    {
     "data": {
      "image/png": "[encoded data removed]",
      "text/plain": "<PIL.Image.Image image mode=L size=100x35 at 0x7FEC2E610940>"
     },
     "metadata": {},
     "output_type": "display_data"
    },
    {
     "data": {
      "text/plain": "'1969'"
     },
     "metadata": {},
     "output_type": "display_data"
    },
    {
     "data": {
      "image/png": "[encoded data removed]",
      "text/plain": "<PIL.PngImagePlugin.PngImageFile image mode=RGB size=100x35 at 0x7FEC25907F10>"
     },
     "metadata": {},
     "output_type": "display_data"
    },
    {
     "data": {
      "image/png": "[encoded data removed]",
      "text/plain": "<PIL.Image.Image image mode=L size=100x35 at 0x7FEC25907EE0>"
     },
     "metadata": {},
     "output_type": "display_data"
    },
    {
     "data": {
      "text/plain": "'7624'"
     },
     "metadata": {},
     "output_type": "display_data"
    },
    {
     "data": {
      "image/png": "[encoded data removed]",
      "text/plain": "<PIL.PngImagePlugin.PngImageFile image mode=RGB size=100x35 at 0x7FEC25306FD0>"
     },
     "metadata": {},
     "output_type": "display_data"
    },
    {
     "data": {
      "image/png": "[encoded data removed]",
      "text/plain": "<PIL.Image.Image image mode=L size=100x35 at 0x7FEC253065E0>"
     },
     "metadata": {},
     "output_type": "display_data"
    },
    {
     "data": {
      "text/plain": "'9295'"
     },
     "metadata": {},
     "output_type": "display_data"
    },
    {
     "data": {
      "image/png": "[encoded data removed]",
      "text/plain": "<PIL.PngImagePlugin.PngImageFile image mode=RGB size=100x35 at 0x7FEC25BC2610>"
     },
     "metadata": {},
     "output_type": "display_data"
    },
    {
     "data": {
      "image/png": "[encoded data removed]",
      "text/plain": "<PIL.Image.Image image mode=L size=100x35 at 0x7FEC25B2BF40>"
     },
     "metadata": {},
     "output_type": "display_data"
    },
    {
     "data": {
      "text/plain": "'6275'"
     },
     "metadata": {},
     "output_type": "display_data"
    },
    {
     "data": {
      "image/png": "[encoded data removed]",
      "text/plain": "<PIL.PngImagePlugin.PngImageFile image mode=RGB size=100x35 at 0x7FEBBFAD5640>"
     },
     "metadata": {},
     "output_type": "display_data"
    },
    {
     "data": {
      "image/png": "[encoded data removed]",
      "text/plain": "<PIL.Image.Image image mode=L size=100x35 at 0x7FEC25AB0EE0>"
     },
     "metadata": {},
     "output_type": "display_data"
    },
    {
     "data": {
      "text/plain": "'1598'"
     },
     "metadata": {},
     "output_type": "display_data"
    },
    {
     "data": {
      "image/png": "[encoded data removed]",
      "text/plain": "<PIL.PngImagePlugin.PngImageFile image mode=RGB size=100x35 at 0x7FEC25E31EE0>"
     },
     "metadata": {},
     "output_type": "display_data"
    },
    {
     "data": {
      "image/png": "[encoded data removed]",
      "text/plain": "<PIL.Image.Image image mode=L size=100x35 at 0x7FEC25E31820>"
     },
     "metadata": {},
     "output_type": "display_data"
    },
    {
     "data": {
      "text/plain": "'3389'"
     },
     "metadata": {},
     "output_type": "display_data"
    },
    {
     "data": {
      "image/png": "[encoded data removed]",
      "text/plain": "<PIL.PngImagePlugin.PngImageFile image mode=RGB size=100x35 at 0x7FEC25BC2BB0>"
     },
     "metadata": {},
     "output_type": "display_data"
    },
    {
     "data": {
      "image/png": "[encoded data removed]",
      "text/plain": "<PIL.Image.Image image mode=L size=100x35 at 0x7FEC25A14F40>"
     },
     "metadata": {},
     "output_type": "display_data"
    },
    {
     "data": {
      "text/plain": "'6594'"
     },
     "metadata": {},
     "output_type": "display_data"
    },
    {
     "data": {
      "image/png": "[encoded data removed]",
      "text/plain": "<PIL.PngImagePlugin.PngImageFile image mode=RGB size=100x35 at 0x7FEBBF871700>"
     },
     "metadata": {},
     "output_type": "display_data"
    },
    {
     "data": {
      "image/png": "[encoded data removed]",
      "text/plain": "<PIL.Image.Image image mode=L size=100x35 at 0x7FEBBEA36CD0>"
     },
     "metadata": {},
     "output_type": "display_data"
    },
    {
     "data": {
      "text/plain": "'2172'"
     },
     "metadata": {},
     "output_type": "display_data"
    },
    {
     "data": {
      "image/png": "[encoded data removed]",
      "text/plain": "<PIL.PngImagePlugin.PngImageFile image mode=RGB size=100x35 at 0x7FEC2591F910>"
     },
     "metadata": {},
     "output_type": "display_data"
    },
    {
     "data": {
      "image/png": "[encoded data removed]",
      "text/plain": "<PIL.Image.Image image mode=L size=100x35 at 0x7FEC2591F100>"
     },
     "metadata": {},
     "output_type": "display_data"
    },
    {
     "data": {
      "text/plain": "'6040'"
     },
     "metadata": {},
     "output_type": "display_data"
    },
    {
     "data": {
      "image/png": "[encoded data removed]",
      "text/plain": "<PIL.PngImagePlugin.PngImageFile image mode=RGB size=100x35 at 0x7FEBBF75FFA0>"
     },
     "metadata": {},
     "output_type": "display_data"
    },
    {
     "data": {
      "image/png": "[encoded data removed]",
      "text/plain": "<PIL.Image.Image image mode=L size=100x35 at 0x7FEBBF75FF10>"
     },
     "metadata": {},
     "output_type": "display_data"
    },
    {
     "data": {
      "text/plain": "'1228'"
     },
     "metadata": {},
     "output_type": "display_data"
    }
   ],
   "source": [
    "if __name__ == '__main__':\n",
    "    main()"
   ]
  }
 ],
 "metadata": {
  "kernelspec": {
   "display_name": "Python 3.8.6 64-bit ('3.8.6')",
   "metadata": {
    "interpreter": {
     "hash": "5534ca191f0ec73724d8c90eb556c974d9046d7de8a4d35d063489447ecbefda"
    }
   },
   "name": "python3"
  },
  "language_info": {
   "codemirror_mode": {
    "name": "ipython",
    "version": 3
   },
   "file_extension": ".py",
   "mimetype": "text/x-python",
   "name": "python",
   "nbconvert_exporter": "python",
   "pygments_lexer": "ipython3",
   "version": "3.8.6"
  }
 },
 "nbformat": 4,
 "nbformat_minor": 5
}